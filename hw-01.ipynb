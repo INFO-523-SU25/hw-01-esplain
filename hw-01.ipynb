{
 "cells": [
  {
   "cell_type": "markdown",
   "id": "8eebb137",
   "metadata": {},
   "source": [
    "# Homework 1: Python, NumPy, and Pandas\n",
    "## Author: Amy Esplain\n",
    "## Date: July 18, 2025\n",
    "\n",
    "**Instructions:**\n",
    "- Complete all the questions below.\n",
    "- Do not remove or rename any code cells.\n",
    "- You may add cells for testing, but they will not be graded.\n",
    "- Submit via GitHub Classroom before the deadline.\n"
   ]
  },
  {
   "cell_type": "code",
   "execution_count": 1,
   "metadata": {},
   "outputs": [],
   "source": [
    "import numpy as np\n",
    "import pandas as pd\n",
    "import statistics\n"
   ]
  },
  {
   "cell_type": "markdown",
   "id": "cfc9393d",
   "metadata": {},
   "source": [
    "## Part 1: Python Basics"
   ]
  },
  {
   "cell_type": "markdown",
   "id": "d8486b10",
   "metadata": {},
   "source": [
    "### Q1. Create two variables: an integer `age = 25` and a string `course = \"Data Mining\"`. Print both variables and their types."
   ]
  },
  {
   "cell_type": "code",
   "execution_count": 2,
   "metadata": {
    "nbgrader": {
     "grade": true,
     "grade_id": "python_variables",
     "locked": false,
     "points": 5
    }
   },
   "outputs": [
    {
     "name": "stdout",
     "output_type": "stream",
     "text": [
      "The age variable has a value of 25 and data type of <class 'int'>.\n",
      "The course variable has a value of 'Data Mining' and data type of <class 'str'>.\n",
      "25\n",
      "Data Mining\n",
      "<class 'int'>\n",
      "<class 'str'>\n"
     ]
    }
   ],
   "source": [
    "#Create variables\n",
    "age = 25\n",
    "course = \"Data Mining\"\n",
    "\n",
    "#print values and data types\n",
    "print(f\"The age variable has a value of {age} and data type of {type(age)}.\")\n",
    "print(f\"The course variable has a value of '{course}' and data type of {type(course)}.\")\n",
    "\n",
    "print(age)\n",
    "print(course)\n",
    "print(type(age))\n",
    "print(type(course))"
   ]
  },
  {
   "cell_type": "markdown",
   "id": "c921732b",
   "metadata": {},
   "source": [
    "### Q2. Write a function `is_prime(num)` that uses control structures to determine whether a number is prime."
   ]
  },
  {
   "cell_type": "code",
   "execution_count": null,
   "metadata": {
    "nbgrader": {
     "grade": true,
     "grade_id": "control_structures",
     "locked": false,
     "points": 10
    }
   },
   "outputs": [
    {
     "name": "stdout",
     "output_type": "stream",
     "text": [
      "5 is a prime number?  True.\n",
      "7 is a prime number?  True.\n",
      "10 is a prime number?  False.\n"
     ]
    }
   ],
   "source": [
    "# Creating a function that takes an integrer which returns TRUE if prime and FALSE otherwise\n",
    "def is_prime(num):\n",
    "    if num <= 1:\n",
    "        return False\n",
    "    for i in range(2, int(num**0.5) + 1):\n",
    "        if num % i == 0:\n",
    "            return False\n",
    "    return True\n",
    "\n",
    "# Checking if the function works by inputting numbers with expected results.\n",
    "print(f\"5 is a prime number?  {is_prime(5)}.\")\n",
    "print(f\"7 is a prime number?  {is_prime(7)}.\")\n",
    "print(f\"10 is a prime number?  {is_prime(10)}.\")\n"
   ]
  },
  {
   "cell_type": "markdown",
   "id": "67ec92e1",
   "metadata": {},
   "source": [
    "### Q3. Create a dictionary `student_grades` with student names as keys and grades as values. Loop through the dictionary and print each student's name and grade in the format: `Student [Name] has grade [Grade]`."
   ]
  },
  {
   "cell_type": "code",
   "execution_count": null,
   "metadata": {
    "nbgrader": {
     "grade": true,
     "grade_id": "data_structures",
     "locked": false,
     "points": 5
    }
   },
   "outputs": [
    {
     "name": "stdout",
     "output_type": "stream",
     "text": [
      "Amy has grade A.\n",
      "Rami has grade B.\n",
      "Concho has grade C.\n",
      "Brook has grade D.\n",
      "Baylee has grade F.\n"
     ]
    }
   ],
   "source": [
    "# Creating a dictionary that associates student names to letter grades\n",
    "student_grades = {\n",
    "    \"Amy\": 'A',\n",
    "    \"Rami\": 'B',\n",
    "    \"Concho\": 'C',\n",
    "    \"Brook\": 'D',\n",
    "    \"Baylee\": 'F'\n",
    "}\n",
    "\n",
    "# Creating a for loop to print each student and their grade\n",
    "for student, grade in student_grades.items():\n",
    "    print(f\"{student} has grade {grade}.\")\n"
   ]
  },
  {
   "cell_type": "markdown",
   "id": "6f59be90",
   "metadata": {},
   "source": [
    "### Q4. Use list comprehensions and define reusable functions."
   ]
  },
  {
   "cell_type": "code",
   "execution_count": null,
   "metadata": {
    "nbgrader": {
     "grade": true,
     "grade_id": "list_comp_functions",
     "locked": false,
     "points": 10
    }
   },
   "outputs": [
    {
     "name": "stdout",
     "output_type": "stream",
     "text": [
      "Tuple list is: [(1, 1), (2, 4), (3, 9), (4, 16), (5, 25), (6, 36), (7, 49), (8, 64), (9, 81), (10, 100)]\n",
      "Sample numbers: [1, 2, 3, 4, 5, 6, 7, 8, 9, 10]\n",
      "Of the sample, the mean is: 5.5, median is: 5.5, and standard deviation is: 3.03.\n"
     ]
    }
   ],
   "source": [
    "# Create a tuple list of numbers and that consist of values and its squared amount.\n",
    "tuple_list = [\n",
    "    (x, x**2) \n",
    "    for x in range(1, 11)\n",
    "]\n",
    "print(f\"Tuple list is: {tuple_list}\")\n",
    "\n",
    "\n",
    "# Create a function to calculate the mean, median and standard deviation of the tuple list.\n",
    "\n",
    "def calculate_stats(numbers):\n",
    "    mean = statistics.mean(numbers)\n",
    "    median = statistics.median(numbers)\n",
    "    std_dev = statistics.stdev(numbers)\n",
    "    return mean, median, std_dev\n",
    "\n",
    "# Verfying that the function works using a sample list\n",
    "sample = [1, 2, 3, 4, 5, 6, 7, 8, 9, 10]\n",
    "stats = calculate_stats(sample)\n",
    "print(f\"Sample numbers: {sample}\")\n",
    "print(f\"Of the sample, the mean is: {stats[0]}, median is: {stats[1]}, and standard deviation is: {stats[2]:.2f}.\")"
   ]
  },
  {
   "cell_type": "markdown",
   "id": "97c51565",
   "metadata": {},
   "source": [
    "## Part 2: NumPy Introduction"
   ]
  },
  {
   "cell_type": "markdown",
   "id": "fb161c82",
   "metadata": {},
   "source": [
    "### Q5. Create NumPy arrays and examine their properties."
   ]
  },
  {
   "cell_type": "code",
   "execution_count": null,
   "metadata": {
    "nbgrader": {
     "grade": true,
     "grade_id": "numpy_arrays",
     "locked": false,
     "points": 10
    }
   },
   "outputs": [
    {
     "name": "stdout",
     "output_type": "stream",
     "text": [
      "[[ 0  1  2  3  4  5  6  7  8  9]\n",
      " [10 11 12 13 14 15 16 17 18 19]\n",
      " [20 21 22 23 24 25 26 27 28 29]\n",
      " [30 31 32 33 34 35 36 37 38 39]\n",
      " [40 41 42 43 44 45 46 47 48 49]\n",
      " [50 51 52 53 54 55 56 57 58 59]\n",
      " [60 61 62 63 64 65 66 67 68 69]\n",
      " [70 71 72 73 74 75 76 77 78 79]\n",
      " [80 81 82 83 84 85 86 87 88 89]\n",
      " [90 91 92 93 94 95 96 97 98 99]]\n",
      "The determinant is: 0.0\n"
     ]
    }
   ],
   "source": [
    "# Creating a a 10x10 matrix with values between 0 and 99.\n",
    "A = np.arange(100).reshape(10, 10)\n",
    "print(A)\n",
    "\n",
    "# Calculate the determinant of the matrix.\n",
    "det_A = np.linalg.det(A)\n",
    "print(f\"The determinant is: {det_A}\")\n"
   ]
  },
  {
   "cell_type": "markdown",
   "id": "52346ab3",
   "metadata": {},
   "source": [
    "### Q6. Perform arithmetic and broadcasting with NumPy arrays."
   ]
  },
  {
   "cell_type": "code",
   "execution_count": null,
   "metadata": {
    "nbgrader": {
     "grade": true,
     "grade_id": "array_operations",
     "locked": false,
     "points": 5
    }
   },
   "outputs": [
    {
     "name": "stdout",
     "output_type": "stream",
     "text": [
      "[1.         0.04468528 0.00944259 0.66797081 0.14079799 0.27423223\n",
      " 0.84440466 0.77093841 0.80142647 0.        ]\n"
     ]
    }
   ],
   "source": [
    "# Creating a 1D array with random integers.\n",
    "array = np.random.rand(10)\n",
    "\n",
    "# Normalizing the array through applying a min-max normalization so values range 0 to 1\n",
    "normalized_array = (array - np.min(array)) / (np.max(array) - np.min(array))\n",
    "print(normalized_array)\n"
   ]
  },
  {
   "cell_type": "markdown",
   "id": "4e2ea998",
   "metadata": {},
   "source": [
    "### Q7. Index, slice, and iterate over NumPy arrays."
   ]
  },
  {
   "cell_type": "code",
   "execution_count": null,
   "metadata": {
    "nbgrader": {
     "grade": true,
     "grade_id": "indexing_slicing",
     "locked": false,
     "points": 5
    }
   },
   "outputs": [
    {
     "name": "stdout",
     "output_type": "stream",
     "text": [
      "[[9 9 8 5]\n",
      " [7 8 0 0]\n",
      " [6 5 0 8]]\n",
      "The array has 2 dimensions.\n",
      "The 3rd column is: [8 0 0]\n",
      "The squared value of 8 is 64.\n",
      "The squared value of 0 is 0.\n",
      "The squared value of 0 is 0.\n"
     ]
    }
   ],
   "source": [
    "# Creating a 2D array with random integers.\n",
    "twodimarray = np.random.randint(10, size=(3, 4))\n",
    "\n",
    "# Printing the array.\n",
    "print(twodimarray)\n",
    "\n",
    "# Confirm that the array is two dimensional.\n",
    "print(f\"The array has {twodimarray.ndim} dimensions.\")\n",
    "\n",
    "# Printing all the elements in the third column.\n",
    "third_column = twodimarray[:, 2]\n",
    "print(f\"The 3rd column is: {third_column}\") \n",
    "\n",
    "# Loop through the columns and print squared values.\n",
    "for x in third_column:\n",
    "    squared_value = x ** 2\n",
    "    print(f\"The squared value of {x} is {squared_value}.\")\n"
   ]
  },
  {
   "cell_type": "markdown",
   "id": "6ac1bab0",
   "metadata": {},
   "source": [
    "### Q8. Calculate statistical metrics using NumPy."
   ]
  },
  {
   "cell_type": "code",
   "execution_count": null,
   "metadata": {
    "nbgrader": {
     "grade": true,
     "grade_id": "numpy_statistics",
     "locked": false,
     "points": 10
    }
   },
   "outputs": [
    {
     "name": "stdout",
     "output_type": "stream",
     "text": [
      "[[7 8 4 7]\n",
      " [4 3 3 3]\n",
      " [0 7 4 6]]\n",
      "The mean of the rows are: [6.5  3.25 4.25]\n",
      "The mean of the columns are: [3.66666667 6.         3.66666667 5.33333333]\n",
      "The median of the rows are: [7. 3. 5.]\n",
      "The median of the columns are: [4. 7. 4. 6.]\n",
      "The variance of the rows are: [2.25   0.1875 7.1875]\n",
      "The variance of the columns are: [2.25   0.1875 7.1875]\n"
     ]
    }
   ],
   "source": [
    "# Creating a 2D array with random integers.\n",
    "twodimarray = np.random.randint(10, size=(3, 4))\n",
    "print(twodimarray)\n",
    "\n",
    "# Calculate the mean of rows and columns.\n",
    "mean_row = np.mean(twodimarray, axis=1)\n",
    "print(f\"The mean of the rows are: {mean_row}\") \n",
    "mean_col = np.mean(twodimarray, axis=0) \n",
    "print(f\"The mean of the columns are: {mean_col}\")\n",
    "\n",
    "\n",
    "# Calculating the median of rows and columns.\n",
    "med_row = np.median(twodimarray, axis=1)\n",
    "print(f\"The median of the rows are: {med_row}\") \n",
    "med_col = np.median(twodimarray, axis=0) \n",
    "print(f\"The median of the columns are: {med_col}\")\n",
    "\n",
    "\n",
    "\n",
    "# Calcuating the Variance of rows and columns\n",
    "var_row = np.var(twodimarray, axis=1)\n",
    "print(f\"The variance of the rows are: {var_row}\") \n",
    "var_col = np.var(twodimarray, axis=0) \n",
    "print(f\"The variance of the columns are: {var_row}\")\n",
    "\n",
    "\n",
    "\n"
   ]
  },
  {
   "cell_type": "code",
   "execution_count": null,
   "metadata": {},
   "outputs": [
    {
     "name": "stdout",
     "output_type": "stream",
     "text": [
      "The row with the maximum variance is row 2 with a variance of 7.1875.\n"
     ]
    }
   ],
   "source": [
    "# Determining the row with maximum variance using np.argmax.\n",
    "max_var_row = np.argmax(var_row)\n",
    "print(f\"The row with the maximum variance is row {max_var_row} with a variance of {var_row[max_var_row]}.\")\n",
    "\n"
   ]
  },
  {
   "cell_type": "markdown",
   "id": "b1fdaab6",
   "metadata": {},
   "source": [
    "## Part 3: Pandas Introduction"
   ]
  },
  {
   "cell_type": "markdown",
   "id": "f74cbc2a",
   "metadata": {},
   "source": [
    "### Q9. Create and manipulate Series and DataFrames."
   ]
  },
  {
   "cell_type": "code",
   "execution_count": null,
   "metadata": {
    "nbgrader": {
     "grade": true,
     "grade_id": "pandas_basics",
     "locked": false,
     "points": 5
    }
   },
   "outputs": [
    {
     "name": "stdout",
     "output_type": "stream",
     "text": [
      "a    35\n",
      "b    79\n",
      "c    43\n",
      "d    31\n",
      "e    40\n",
      "f    87\n",
      "g     2\n",
      "h    15\n",
      "i    41\n",
      "j    69\n",
      "dtype: int32\n",
      "   Random Numbers\n",
      "a              35\n",
      "b              79\n",
      "c              43\n",
      "d              31\n",
      "e              40\n",
      "f              87\n",
      "g               2\n",
      "h              15\n",
      "i              41\n",
      "j              69\n"
     ]
    }
   ],
   "source": [
    "# Creating a series using Pandas and Numpy.\n",
    "ser = pd.Series(np.random.randint(1,101, size = 10), index = ['a', 'b', 'c', 'd', 'e', 'f', 'g', 'h', 'i', 'j'])\n",
    "print(ser)\n",
    "\n",
    "# Converting the series to a dataframe.\n",
    "df = ser.to_frame(name='Random Numbers')\n",
    "print(df)"
   ]
  },
  {
   "cell_type": "markdown",
   "id": "6512a9f0",
   "metadata": {},
   "source": [
    "### Q10. Import and inspect CSV data using Pandas."
   ]
  },
  {
   "cell_type": "code",
   "execution_count": null,
   "metadata": {
    "nbgrader": {
     "grade": true,
     "grade_id": "data_import",
     "locked": false,
     "points": 5
    }
   },
   "outputs": [
    {
     "name": "stdout",
     "output_type": "stream",
     "text": [
      "\n",
      "The data type of each column are: \n",
      " id                    int64\n",
      "name                 object\n",
      "score               float64\n",
      "score_normalized    float64\n",
      "dtype: object \n",
      "\n",
      "The first 10 rows are:\n",
      "   id     name  score  score_normalized\n",
      "0   1    Alice   51.0         -1.463583\n",
      "1   2      Bob   68.0         -0.130677\n",
      "2   3  Charlie   89.0          1.515854\n",
      "3   4    Alice   73.0          0.261354\n",
      "4   5      Bob   96.0          2.064698\n",
      "5   6  Charlie   74.0          0.339760\n",
      "6   7    Alice   68.0         -0.130677\n",
      "7   8      Bob   87.0          1.359042\n",
      "8   9  Charlie   68.0         -0.130677\n",
      "9  10    Alice   63.0         -0.522708\n"
     ]
    }
   ],
   "source": [
    "# Reading the data from a csv file into a dataframe.\n",
    "scores = pd.read_csv('C:\\\\Users\\\\amyes\\\\OneDrive\\\\Desktop\\\\INFO523\\\\hw-01-EsplaintheCode\\\\data\\\\simulated_scores.csv')\n",
    "\n",
    "# Printing the data type of each column.\n",
    "print()\n",
    "print(f\"The data type of each column are: \\n {scores.dtypes} \\n\")\n",
    "\n",
    "# Printing the first 10 rows of the dataframe.\n",
    "print(f\"The first 10 rows are:\")\n",
    "print(scores.head(10))\n"
   ]
  },
  {
   "cell_type": "markdown",
   "id": "618fc140",
   "metadata": {},
   "source": [
    "### Q11. Clean and manipulate DataFrames (e.g., handle missing values)."
   ]
  },
  {
   "cell_type": "code",
   "execution_count": null,
   "metadata": {
    "nbgrader": {
     "grade": true,
     "grade_id": "data_cleaning",
     "locked": false,
     "points": 3
    }
   },
   "outputs": [
    {
     "name": "stdout",
     "output_type": "stream",
     "text": [
      "Dataframe with missing value:\n",
      "     Name  Scores\n",
      "0   Brook    51.0\n",
      "1  Baylee    68.0\n",
      "2  Concho    89.0\n",
      "3    Rami     NaN\n",
      "4     Amy    96.0\n",
      "5   Brook    60.0\n",
      "6  Baylee    78.0\n",
      "7  Concho     NaN\n",
      "8    Rami    88.0\n",
      "9     Amy    92.0\n",
      "\n",
      " The median of the scores column is: 83.0\n",
      "\n",
      " Dataframe with missing value replaced with median score 83.0\n",
      "     Name  Scores\n",
      "0   Brook    51.0\n",
      "1  Baylee    68.0\n",
      "2  Concho    89.0\n",
      "3    Rami    83.0\n",
      "4     Amy    96.0\n",
      "5   Brook    60.0\n",
      "6  Baylee    78.0\n",
      "7  Concho    83.0\n",
      "8    Rami    88.0\n",
      "9     Amy    92.0\n",
      "\n",
      " Dataframe with new column 'Normalized Score':\n",
      "     Name  Scores  Score_Normalized\n",
      "0   Brook    51.0             -1.89\n",
      "1  Baylee    68.0             -0.74\n",
      "2  Concho    89.0              0.70\n",
      "3    Rami    83.0              0.29\n",
      "4     Amy    96.0              1.17\n",
      "5   Brook    60.0             -1.28\n",
      "6  Baylee    78.0             -0.05\n",
      "7  Concho    83.0              0.29\n",
      "8    Rami    88.0              0.63\n",
      "9     Amy    92.0              0.90\n"
     ]
    }
   ],
   "source": [
    "# Creat a random data frame with missing values.\n",
    "dataframe = pd.DataFrame({\n",
    "    'Name': ['Brook', 'Baylee', 'Concho', 'Rami', 'Amy','Brook', 'Baylee', 'Concho', 'Rami', 'Amy'],\n",
    "    'Scores': [51, 68, 89, np.nan, 96, 60, 78, np.nan, 88, 92],\n",
    "})\n",
    "print(f\"Dataframe with missing value:\")\n",
    "print(dataframe)\n",
    "\n",
    "# Calculate the median of the scores column.\n",
    "median_score = dataframe['Scores'].median()\n",
    "print(f\"\\n The median of the scores column is: {median_score}\")\n",
    "\n",
    "# Replace missing values with the median score.\n",
    "dataframe['Scores'] = dataframe['Scores'].fillna(median_score)\n",
    "print(f\"\\n Dataframe with missing value replaced with median score {median_score}\")\n",
    "print(dataframe)\n",
    "\n",
    "# Create a new column with normalized scores using z-score normalization.\n",
    "dataframe['Score_Normalized'] = round((dataframe['Scores'] - dataframe['Scores'].mean()) / dataframe['Scores'].std(),2)\n",
    "print(f\"\\n Dataframe with new column 'Normalized Score':\")  \n",
    "print(dataframe)\n"
   ]
  },
  {
   "cell_type": "markdown",
   "id": "93d70904",
   "metadata": {},
   "source": [
    "### Q12. Group and aggregate data using Pandas."
   ]
  },
  {
   "cell_type": "code",
   "execution_count": null,
   "metadata": {
    "nbgrader": {
     "grade": true,
     "grade_id": "data_grouping",
     "locked": false,
     "points": 3
    }
   },
   "outputs": [
    {
     "name": "stdout",
     "output_type": "stream",
     "text": [
      "Unsorted Average for Each Group':\n",
      "     Name  Scores\n",
      "0     Amy    94.0\n",
      "1  Baylee    73.0\n",
      "2   Brook    55.5\n",
      "3  Concho    86.0\n",
      "4    Rami    85.5\n",
      "\n",
      " Descending Order Average for Each Group':\n",
      "     Name  Scores\n",
      "0     Amy    94.0\n",
      "3  Concho    86.0\n",
      "4    Rami    85.5\n",
      "1  Baylee    73.0\n",
      "2   Brook    55.5\n"
     ]
    }
   ],
   "source": [
    "# New dataframe that is grouping by each names and their respective average scores.\n",
    "group_df = dataframe.groupby('Name')['Scores'].mean().reset_index()\n",
    "print(f\"Unsorted Average for Each Group':\")  \n",
    "print(group_df)\n",
    "\n",
    "# Sorting the dataframe by the average scores in descending order.\n",
    "sorted_group_gf = group_df.sort_values(by='Scores', ascending=False)\n",
    "print(f\"\\n Descending Order Average for Each Group':\")  \n",
    "print(sorted_group_gf)"
   ]
  },
  {
   "cell_type": "markdown",
   "id": "7782af8e",
   "metadata": {},
   "source": [
    "## Final Check"
   ]
  },
  {
   "cell_type": "code",
   "execution_count": 221,
   "id": "cfa9b3b4",
   "metadata": {},
   "outputs": [
    {
     "name": "stdout",
     "output_type": "stream",
     "text": [
      "Notebook structure complete. Review your answers before submission.\n"
     ]
    }
   ],
   "source": [
    "# This cell is optional. Run to confirm all cells execute.\n",
    "print('Notebook structure complete. Review your answers before submission.')"
   ]
  },
  {
   "cell_type": "markdown",
   "metadata": {},
   "source": [
    "## Report\n",
    "While this homework does not require exploratory data analysis, I wanted to include a report section to summarize the key findings and insights from the exercises. I found that working with Python, NumPy, and Pandas was straightforward. The exercises helped solidify my understanding of basic data structures and operations in Python, as well as how to leverage NumPy for numerical computations and Pandas for data manipulation. However, I did encounter some challenges with understanding the broadcasting feature in NumPy, which required additional reading and practice to fully grasp. Additionally, I struggled on the for loops and had to use external resources to answer the question. These resources were cited in the reference section.  Overall, I feel more confident in my ability to work with these libraries and look forward to applying them in future projects."
   ]
  },
  {
   "cell_type": "markdown",
   "metadata": {},
   "source": [
    "## References\n",
    "\n",
    "### [Reference 1](https://www.geeksforgeeks.org/python/python-program-to-check-whether-a-number-is-prime-or-not/), used in part Q2, specifically for creating the `is_prime` function.\n",
    "### [Reference 2](https://www.geeksforgeeks.org/python/python-iterate-over-columns-in-numpy/), used in part Q7, specifically looping through columns in a NumPy array.\n",
    "### [Reference 3](https://numpy.org/doc/2.2/reference/generated/numpy.mean.html), used in part Q8, specifically in calculating the mean,median, variance and argmax of a NumPy array."
   ]
  }
 ],
 "metadata": {
  "kernelspec": {
   "display_name": ".venv",
   "language": "python",
   "name": "python3"
  },
  "language_info": {
   "codemirror_mode": {
    "name": "ipython",
    "version": 3
   },
   "file_extension": ".py",
   "mimetype": "text/x-python",
   "name": "python",
   "nbconvert_exporter": "python",
   "pygments_lexer": "ipython3",
   "version": "3.9.9"
  }
 },
 "nbformat": 4,
 "nbformat_minor": 2
}
