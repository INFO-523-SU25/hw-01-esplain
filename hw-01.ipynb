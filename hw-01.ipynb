{
 "cells": [
  {
   "cell_type": "markdown",
   "id": "8eebb137",
   "metadata": {},
   "source": [
    "# Homework 1: Python, NumPy, and Pandas\n",
    "## Author: Amy Esplain\n",
    "\n",
    "\n",
    "**Instructions:**\n",
    "- Complete all the questions below.\n",
    "- Do not remove or rename any code cells.\n",
    "- You may add cells for testing, but they will not be graded.\n",
    "- Submit via GitHub Classroom before the deadline.\n"
   ]
  },
  {
   "cell_type": "code",
   "execution_count": null,
   "metadata": {},
   "outputs": [],
   "source": [
    "import numpy as np\n",
    "import pandas as pd\n",
    "import statistics"
   ]
  },
  {
   "cell_type": "markdown",
   "id": "cfc9393d",
   "metadata": {},
   "source": [
    "## Part 1: Python Basics"
   ]
  },
  {
   "cell_type": "markdown",
   "id": "d8486b10",
   "metadata": {},
   "source": [
    "### Q1. Create two variables: an integer `age = 25` and a string `course = \"Data Mining\"`. Print both variables and their types."
   ]
  },
  {
   "cell_type": "code",
   "execution_count": null,
   "metadata": {
    "nbgrader": {
     "grade": true,
     "grade_id": "python_variables",
     "locked": false,
     "points": 5
    }
   },
   "outputs": [],
   "source": [
    "# TODO: Implement your solution here"
   ]
  },
  {
   "cell_type": "markdown",
   "id": "c921732b",
   "metadata": {},
   "source": [
    "### Q2. Write a function `is_prime(num)` that uses control structures to determine whether a number is prime."
   ]
  },
  {
   "cell_type": "code",
   "execution_count": null,
   "metadata": {
    "nbgrader": {
     "grade": true,
     "grade_id": "control_structures",
     "locked": false,
     "points": 10
    }
   },
   "outputs": [],
   "source": [
    "# TODO: Implement your solution here"
   ]
  },
  {
   "cell_type": "markdown",
   "id": "67ec92e1",
   "metadata": {},
   "source": [
    "### Q3. Create a dictionary `student_grades` with student names as keys and grades as values. Loop through the dictionary and print each student's name and grade in the format: `Student [Name] has grade [Grade]`."
   ]
  },
  {
   "cell_type": "code",
   "execution_count": null,
   "metadata": {
    "nbgrader": {
     "grade": true,
     "grade_id": "data_structures",
     "locked": false,
     "points": 5
    }
   },
   "outputs": [],
   "source": [
    "# TODO: Implement your solution here"
   ]
  },
  {
   "cell_type": "markdown",
   "id": "6f59be90",
   "metadata": {},
   "source": [
    "### Q4. Use list comprehensions and define reusable functions."
   ]
  },
  {
   "cell_type": "code",
   "execution_count": null,
   "metadata": {
    "nbgrader": {
     "grade": true,
     "grade_id": "list_comp_functions",
     "locked": false,
     "points": 10
    }
   },
   "outputs": [],
   "source": [
    "# TODO: Implement your solution here"
   ]
  },
  {
   "cell_type": "markdown",
   "id": "97c51565",
   "metadata": {},
   "source": [
    "## Part 2: NumPy Introduction"
   ]
  },
  {
   "cell_type": "markdown",
   "id": "fb161c82",
   "metadata": {},
   "source": [
    "### Q5. Create NumPy arrays and examine their properties."
   ]
  },
  {
   "cell_type": "code",
   "execution_count": null,
   "metadata": {
    "nbgrader": {
     "grade": true,
     "grade_id": "numpy_arrays",
     "locked": false,
     "points": 10
    }
   },
   "outputs": [],
   "source": [
    "# TODO: Implement your solution here"
   ]
  },
  {
   "cell_type": "markdown",
   "id": "52346ab3",
   "metadata": {},
   "source": [
    "### Q6. Perform arithmetic and broadcasting with NumPy arrays."
   ]
  },
  {
   "cell_type": "code",
   "execution_count": null,
   "metadata": {
    "nbgrader": {
     "grade": true,
     "grade_id": "array_operations",
     "locked": false,
     "points": 5
    }
   },
   "outputs": [],
   "source": [
    "# TODO: Implement your solution here"
   ]
  },
  {
   "cell_type": "markdown",
   "id": "4e2ea998",
   "metadata": {},
   "source": [
    "### Q7. Index, slice, and iterate over NumPy arrays."
   ]
  },
  {
   "cell_type": "code",
   "execution_count": null,
   "metadata": {
    "nbgrader": {
     "grade": true,
     "grade_id": "indexing_slicing",
     "locked": false,
     "points": 5
    }
   },
   "outputs": [],
   "source": [
    "# TODO: Implement your solution here"
   ]
  },
  {
   "cell_type": "markdown",
   "id": "6ac1bab0",
   "metadata": {},
   "source": [
    "### Q8. Calculate statistical metrics using NumPy."
   ]
  },
  {
   "cell_type": "code",
   "execution_count": null,
   "metadata": {
    "nbgrader": {
     "grade": true,
     "grade_id": "numpy_statistics",
     "locked": false,
     "points": 10
    }
   },
   "outputs": [],
   "source": [
    "# TODO: Implement your solution here"
   ]
  },
  {
   "cell_type": "code",
   "execution_count": null,
   "metadata": {},
   "outputs": [],
   "source": [
    "# TODO: Implement your solution here"
   ]
  },
  {
   "cell_type": "markdown",
   "id": "b1fdaab6",
   "metadata": {},
   "source": [
    "## Part 3: Pandas Introduction"
   ]
  },
  {
   "cell_type": "markdown",
   "id": "f74cbc2a",
   "metadata": {},
   "source": [
    "### Q9. Create and manipulate Series and DataFrames."
   ]
  },
  {
   "cell_type": "code",
   "execution_count": null,
   "metadata": {
    "nbgrader": {
     "grade": true,
     "grade_id": "pandas_basics",
     "locked": false,
     "points": 5
    }
   },
   "outputs": [],
   "source": [
    "# TODO: Implement your solution here"
   ]
  },
  {
   "cell_type": "markdown",
   "id": "6512a9f0",
   "metadata": {},
   "source": [
    "### Q10. Import and inspect CSV data using Pandas."
   ]
  },
  {
   "cell_type": "code",
   "execution_count": null,
   "metadata": {
    "nbgrader": {
     "grade": true,
     "grade_id": "data_import",
     "locked": false,
     "points": 5
    }
   },
   "outputs": [],
   "source": [
    "# TODO: Implement your solution here"
   ]
  },
  {
   "cell_type": "markdown",
   "id": "618fc140",
   "metadata": {},
   "source": [
    "### Q11. Clean and manipulate DataFrames (e.g., handle missing values)."
   ]
  },
  {
   "cell_type": "code",
   "execution_count": null,
   "metadata": {
    "nbgrader": {
     "grade": true,
     "grade_id": "data_cleaning",
     "locked": false,
     "points": 3
    }
   },
   "outputs": [],
   "source": [
    "# TODO: Implement your solution here"
   ]
  },
  {
   "cell_type": "markdown",
   "id": "93d70904",
   "metadata": {},
   "source": [
    "### Q12. Group and aggregate data using Pandas."
   ]
  },
  {
   "cell_type": "code",
   "execution_count": null,
   "metadata": {
    "nbgrader": {
     "grade": true,
     "grade_id": "data_grouping",
     "locked": false,
     "points": 3
    }
   },
   "outputs": [],
   "source": [
    "# TODO: Implement your solution here"
   ]
  },
  {
   "cell_type": "markdown",
   "id": "7782af8e",
   "metadata": {},
   "source": [
    "## Final Check"
   ]
  },
  {
   "cell_type": "code",
   "execution_count": null,
   "id": "cfa9b3b4",
   "metadata": {},
   "outputs": [],
   "source": [
    "# This cell is optional. Run to confirm all cells execute.\n",
    "print('Notebook structure complete. Review your answers before submission.')"
   ]
  }
 ],
 "metadata": {
  "kernelspec": {
   "display_name": ".venv",
   "language": "python",
   "name": "python3"
  },
  "language_info": {
   "name": "python",
   "version": "3.9.9"
  }
 },
 "nbformat": 4,
 "nbformat_minor": 2
}
